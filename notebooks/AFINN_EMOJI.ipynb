{
  "nbformat": 4,
  "nbformat_minor": 0,
  "metadata": {
    "colab": {
      "name": "AFINN EMOJI.ipynb",
      "provenance": [],
      "collapsed_sections": []
    },
    "kernelspec": {
      "name": "python3",
      "display_name": "Python 3"
    },
    "language_info": {
      "name": "python"
    },
    "accelerator": "GPU"
  },
  "cells": [
    {
      "cell_type": "code",
      "metadata": {
        "colab": {
          "base_uri": "https://localhost:8080/"
        },
        "id": "hKBJmcsPKkox",
        "outputId": "3e652129-2e36-4dde-b187-fe8027f37473"
      },
      "source": [
        "pip install git+https://github.com/luciorenovato/afinn.git"
      ],
      "execution_count": 1,
      "outputs": [
        {
          "output_type": "stream",
          "name": "stdout",
          "text": [
            "Collecting git+https://github.com/luciorenovato/afinn.git\n",
            "  Cloning https://github.com/luciorenovato/afinn.git to /tmp/pip-req-build-29f79jtn\n",
            "  Running command git clone -q https://github.com/luciorenovato/afinn.git /tmp/pip-req-build-29f79jtn\n"
          ]
        }
      ]
    },
    {
      "cell_type": "code",
      "metadata": {
        "id": "w5zMLF3XFdaf"
      },
      "source": [
        "from afinn import Afinn\n",
        "import pandas as pd\n",
        "import re"
      ],
      "execution_count": 2,
      "outputs": []
    },
    {
      "cell_type": "markdown",
      "metadata": {
        "id": "Nz5sPfBBLM_3"
      },
      "source": [
        "**AFINN**"
      ]
    },
    {
      "cell_type": "code",
      "metadata": {
        "colab": {
          "base_uri": "https://localhost:8080/"
        },
        "id": "r8i0PMTlLJ1h",
        "outputId": "350cfc07-1084-4579-fbea-7081a1762ea4"
      },
      "source": [
        "afn = Afinn(emoticons=True)\n",
        "afn.setup_from_file('/content/drive/MyDrive/Artigo/AFINN-hiv.txt')\n",
        "tweet = \"😀\"\n",
        "print(afn.find_all(tweet))\n",
        "score = afn.score(tweet)\n",
        "print(score, tweet)\n",
        "tweet = \"good😀bad\"\n",
        "print(afn.split(tweet))\n",
        "score = afn.score(tweet)\n",
        "print(score, tweet)\n",
        "tweet = \"maneiro\"\n",
        "score = afn.score(tweet)\n",
        "print(score, tweet)\n",
        "\n"
      ],
      "execution_count": 5,
      "outputs": [
        {
          "output_type": "stream",
          "name": "stdout",
          "text": [
            "[]\n",
            "0.0 😀\n",
            "['good', 'bad']\n",
            "5.0 good😀bad\n",
            "4.0 maneiro\n"
          ]
        }
      ]
    }
  ]
}